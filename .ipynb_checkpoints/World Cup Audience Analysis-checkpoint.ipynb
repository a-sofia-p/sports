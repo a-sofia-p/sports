{
 "cells": [
  {
   "cell_type": "markdown",
   "id": "f3eba7f0-1cf0-4df0-9fb1-54abdc199a92",
   "metadata": {},
   "source": [
    "# **World Cup Audience Analysis**"
   ]
  },
  {
   "cell_type": "markdown",
   "id": "728cd55c-4bf1-4d54-8d0d-4d6ebd25da7d",
   "metadata": {},
   "source": [
    "Using FiveThirtyEight's FIFA dataset available on GitHub. \n",
    "\n",
    "Variables: \n",
    "- variablestv_audience_share (Country's share of global world cup TV Audience Percentage, 2010)  \n",
    "- population_share (Country's share of global population Percentage, 2010)\r\n",
    "Tthe f rst step was to observe the distribution of the data by outputting a table for th efrequency of each attribute. ThenI created a new categorical variable to group the attributes in away that somewhat attested to the distribution of the dat. This was challenging sincee the data itself washeavilyy skewed for both of them.This led to the decision of Iadingd an extra categor to help lcconvey the subtle differences from countrie sthat represented a marginal (almost null) value to those that contributed a small amount toward seither percentage (TV audience or World population)  .."
   ]
  },
  {
   "cell_type": "code",
   "execution_count": 24,
   "id": "7825dd01-2a82-47f6-bde5-fc3b4e07500b",
   "metadata": {},
   "outputs": [],
   "source": [
    "import pandas as pd\n",
    "import numpy as np"
   ]
  },
  {
   "cell_type": "code",
   "execution_count": 8,
   "id": "506c4625-d042-424f-b6d3-291d04c52cf5",
   "metadata": {},
   "outputs": [],
   "source": [
    "url = 'https://raw.githubusercontent.com/fivethirtyeight/data/refs/heads/master/fifa/fifa_countries_audience.csv'\n",
    "df = pd.read_csv(url)"
   ]
  },
  {
   "cell_type": "code",
   "execution_count": 10,
   "id": "b41cb862-4c25-46b4-8ef1-9fc19902e5b6",
   "metadata": {},
   "outputs": [
    {
     "data": {
      "text/html": [
       "<div>\n",
       "<style scoped>\n",
       "    .dataframe tbody tr th:only-of-type {\n",
       "        vertical-align: middle;\n",
       "    }\n",
       "\n",
       "    .dataframe tbody tr th {\n",
       "        vertical-align: top;\n",
       "    }\n",
       "\n",
       "    .dataframe thead th {\n",
       "        text-align: right;\n",
       "    }\n",
       "</style>\n",
       "<table border=\"1\" class=\"dataframe\">\n",
       "  <thead>\n",
       "    <tr style=\"text-align: right;\">\n",
       "      <th></th>\n",
       "      <th>country</th>\n",
       "      <th>confederation</th>\n",
       "      <th>population_share</th>\n",
       "      <th>tv_audience_share</th>\n",
       "      <th>gdp_weighted_share</th>\n",
       "    </tr>\n",
       "  </thead>\n",
       "  <tbody>\n",
       "    <tr>\n",
       "      <th>0</th>\n",
       "      <td>United States</td>\n",
       "      <td>CONCACAF</td>\n",
       "      <td>4.5</td>\n",
       "      <td>4.3</td>\n",
       "      <td>11.3</td>\n",
       "    </tr>\n",
       "    <tr>\n",
       "      <th>1</th>\n",
       "      <td>Japan</td>\n",
       "      <td>AFC</td>\n",
       "      <td>1.9</td>\n",
       "      <td>4.9</td>\n",
       "      <td>9.1</td>\n",
       "    </tr>\n",
       "    <tr>\n",
       "      <th>2</th>\n",
       "      <td>China</td>\n",
       "      <td>AFC</td>\n",
       "      <td>19.5</td>\n",
       "      <td>14.8</td>\n",
       "      <td>7.3</td>\n",
       "    </tr>\n",
       "    <tr>\n",
       "      <th>3</th>\n",
       "      <td>Germany</td>\n",
       "      <td>UEFA</td>\n",
       "      <td>1.2</td>\n",
       "      <td>2.9</td>\n",
       "      <td>6.3</td>\n",
       "    </tr>\n",
       "    <tr>\n",
       "      <th>4</th>\n",
       "      <td>Brazil</td>\n",
       "      <td>CONMEBOL</td>\n",
       "      <td>2.8</td>\n",
       "      <td>7.1</td>\n",
       "      <td>5.4</td>\n",
       "    </tr>\n",
       "  </tbody>\n",
       "</table>\n",
       "</div>"
      ],
      "text/plain": [
       "         country confederation  population_share  tv_audience_share  \\\n",
       "0  United States      CONCACAF               4.5                4.3   \n",
       "1          Japan           AFC               1.9                4.9   \n",
       "2          China           AFC              19.5               14.8   \n",
       "3        Germany          UEFA               1.2                2.9   \n",
       "4         Brazil      CONMEBOL               2.8                7.1   \n",
       "\n",
       "   gdp_weighted_share  \n",
       "0                11.3  \n",
       "1                 9.1  \n",
       "2                 7.3  \n",
       "3                 6.3  \n",
       "4                 5.4  "
      ]
     },
     "execution_count": 10,
     "metadata": {},
     "output_type": "execute_result"
    }
   ],
   "source": [
    "df.head()"
   ]
  },
  {
   "cell_type": "code",
   "execution_count": 12,
   "id": "bcf95022-e8dc-417c-8303-68970e7a2f5f",
   "metadata": {},
   "outputs": [
    {
     "data": {
      "text/plain": [
       "confederation\n",
       "CAF         50\n",
       "UEFA        46\n",
       "AFC         43\n",
       "CONCACAF    30\n",
       "OFC         12\n",
       "CONMEBOL    10\n",
       "Name: count, dtype: int64"
      ]
     },
     "execution_count": 12,
     "metadata": {},
     "output_type": "execute_result"
    }
   ],
   "source": [
    "df.confederation.value_counts()"
   ]
  },
  {
   "cell_type": "code",
   "execution_count": 14,
   "id": "5e401707-d880-41c5-9216-b5fd2399e79f",
   "metadata": {},
   "outputs": [
    {
     "data": {
      "text/plain": [
       "tv_audience_share\n",
       "0.0     67\n",
       "0.1     46\n",
       "0.2     19\n",
       "0.3     15\n",
       "0.5      7\n",
       "0.4      6\n",
       "0.7      3\n",
       "0.8      2\n",
       "2.6      2\n",
       "0.6      2\n",
       "1.8      2\n",
       "2.1      2\n",
       "2.0      2\n",
       "3.2      1\n",
       "0.9      1\n",
       "14.8     1\n",
       "2.9      1\n",
       "7.1      1\n",
       "3.1      1\n",
       "1.3      1\n",
       "2.3      1\n",
       "1.0      1\n",
       "1.6      1\n",
       "6.7      1\n",
       "1.2      1\n",
       "4.9      1\n",
       "1.5      1\n",
       "2.4      1\n",
       "4.3      1\n",
       "Name: count, dtype: int64"
      ]
     },
     "execution_count": 14,
     "metadata": {},
     "output_type": "execute_result"
    }
   ],
   "source": [
    "#tv_audience_share = Country's share of global world cup TV Audience (percentage)  \n",
    "df.tv_audience_share.value_counts()"
   ]
  },
  {
   "cell_type": "code",
   "execution_count": 16,
   "id": "6787e72a-900b-474b-92ae-628733ccfbb4",
   "metadata": {},
   "outputs": [
    {
     "data": {
      "text/plain": [
       "0.5230366492146596"
      ]
     },
     "execution_count": 16,
     "metadata": {},
     "output_type": "execute_result"
    }
   ],
   "source": [
    "df.tv_audience_share.mean()"
   ]
  },
  {
   "cell_type": "code",
   "execution_count": null,
   "id": "d2548aca-a2e0-4187-bccc-c41e42ab00ec",
   "metadata": {},
   "outputs": [],
   "source": [
    "conditions = [\n",
    "    (df['tv_audience_share'] ==0.00),\n",
    "    (df['tv_audience_share'] >0.00) & (df['tv_audience_share'] <=0.50),\n",
    "    (df['tv_audience_share'] >0.50) & (df['tv_audience_share'] <=3.90),\n",
    "    (df['tv_audience_share'] >3.90) & (df['tv_audience_share'] <=8.00),\n",
    "    (df['tv_audience_share'] >8.00)]choices = [\"Very Low\",\"Low\",\"Moderate\",\"High\",\"Very High\"]\n",
    "\n",
    "#df['TVAudienceShare'] = np.select(conditions, choices, default=np.nan)\n",
    "#df['TVAudienceShare'] = df['TVAudienceShare'].replace('nan', np.nan)\n",
    "#df.TVAudienceShare.value_counts(dropna=False)"
   ]
  },
  {
   "cell_type": "code",
   "execution_count": null,
   "id": "301dacc5-ac31-439c-a407-a470168c5f55",
   "metadata": {},
   "outputs": [],
   "source": [
    "df.tv_audience_share.std()"
   ]
  },
  {
   "cell_type": "code",
   "execution_count": null,
   "id": "03923254-85c6-48ff-9401-599f8f06d281",
   "metadata": {},
   "outputs": [],
   "source": [
    "# population_share = Country's share of global population (percentage)\n",
    "df.population_share.value_counts().sort_values(ascending=False)"
   ]
  },
  {
   "cell_type": "code",
   "execution_count": null,
   "id": "e7e0d1d5-401d-449b-8e24-c6292b4a8c28",
   "metadata": {},
   "outputs": [],
   "source": [
    "conditions = [\n",
    "    (df['population_share'] ==0.0),\n",
    "    (df['population_share'] >0.0) & (df['population_share'] <=2.0),\n",
    "    (df['population_share'] >2.0) & (df['population_share'] <=4.0),\n",
    "    (df['population_share'] >4.0) & (df['population_share'] <=10.0),\n",
    "    (df['population_share'] >10)]choices = [\"Very Low\",\"Low\",\"Moderate\",\"High\",\"Very High\"]"
   ]
  },
  {
   "cell_type": "code",
   "execution_count": null,
   "id": "46cc8f47-6316-4007-b101-937cc4b0732a",
   "metadata": {},
   "outputs": [],
   "source": [
    "#df['Wpopshare'] = np.select(conditions, choices, default=np.nan)\n",
    "#df['Wpopshare'] = df['Wpopshare'].replace('nan', np.nan)\n",
    "#df.Wpopshare.value_counts(dropna=False)"
   ]
  },
  {
   "cell_type": "code",
   "execution_count": null,
   "id": "7ec6ed0f-ebcf-4081-8f83-cfa99a2e9524",
   "metadata": {},
   "outputs": [],
   "source": []
  },
  {
   "cell_type": "code",
   "execution_count": null,
   "id": "f0bcbde6-8fe5-4863-9f4f-5670aa1b8964",
   "metadata": {},
   "outputs": [],
   "source": []
  },
  {
   "cell_type": "code",
   "execution_count": null,
   "id": "6e19293c-3dd3-4e52-b0a2-f124fd12592e",
   "metadata": {},
   "outputs": [],
   "source": []
  }
 ],
 "metadata": {
  "kernelspec": {
   "display_name": "Python 3 (ipykernel)",
   "language": "python",
   "name": "python3"
  },
  "language_info": {
   "codemirror_mode": {
    "name": "ipython",
    "version": 3
   },
   "file_extension": ".py",
   "mimetype": "text/x-python",
   "name": "python",
   "nbconvert_exporter": "python",
   "pygments_lexer": "ipython3",
   "version": "3.12.4"
  }
 },
 "nbformat": 4,
 "nbformat_minor": 5
}
