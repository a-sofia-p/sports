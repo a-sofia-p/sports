{
 "cells": [
  {
   "cell_type": "markdown",
   "id": "f3eba7f0-1cf0-4df0-9fb1-54abdc199a92",
   "metadata": {},
   "source": [
    "# **World Cup Audience Analysis**"
   ]
  },
  {
   "cell_type": "code",
   "execution_count": null,
   "id": "7825dd01-2a82-47f6-bde5-fc3b4e07500b",
   "metadata": {},
   "outputs": [],
   "source": [
    "import pandas as pd\n",
    "import numpy as np\n",
    "import matplotlib.pylot as plt\n",
    "import seaborn as sns\n",
    "import statsmodels.api as sm\n",
    "import statsmodel.formula.api as smf"
   ]
  },
  {
   "cell_type": "code",
   "execution_count": null,
   "id": "506c4625-d042-424f-b6d3-291d04c52cf5",
   "metadata": {},
   "outputs": [],
   "source": [
    "url = 'https://raw.githubusercontent.com/fivethirtyeight/data/refs/heads/master/fifa/fifa_countries_audience.csv'\n",
    "df = pd.read_csv(url)"
   ]
  },
  {
   "cell_type": "code",
   "execution_count": null,
   "id": "b41cb862-4c25-46b4-8ef1-9fc19902e5b6",
   "metadata": {},
   "outputs": [],
   "source": [
    "df.head()"
   ]
  },
  {
   "cell_type": "code",
   "execution_count": null,
   "id": "bcf95022-e8dc-417c-8303-68970e7a2f5f",
   "metadata": {},
   "outputs": [],
   "source": [
    "df.confederation.value_counts()"
   ]
  },
  {
   "cell_type": "code",
   "execution_count": null,
   "id": "5e401707-d880-41c5-9216-b5fd2399e79f",
   "metadata": {},
   "outputs": [],
   "source": [
    "#tv_audience_share = Country's share of global world cup TV Audience (percentage)  \n",
    "df.tv_audience_share.value_counts()"
   ]
  },
  {
   "cell_type": "code",
   "execution_count": null,
   "id": "6787e72a-900b-474b-92ae-628733ccfbb4",
   "metadata": {},
   "outputs": [],
   "source": [
    "df.tv_audience_share.mean()"
   ]
  },
  {
   "cell_type": "code",
   "execution_count": null,
   "id": "d2548aca-a2e0-4187-bccc-c41e42ab00ec",
   "metadata": {},
   "outputs": [],
   "source": [
    "conditions = [\n",
    "    (df['tv_audience_share'] ==0.00),\n",
    "    (df['tv_audience_share'] >0.00) & (df['tv_audience_share'] <=0.50),\n",
    "    (df['tv_audience_share'] >0.50) & (df['tv_audience_share'] <=3.90),\n",
    "    (df['tv_audience_share'] >3.90) & (df['tv_audience_share'] <=8.00),\n",
    "    (df['tv_audience_share'] >8.00)]choices = [\"Very Low\",\"Low\",\"Moderate\",\"High\",\"Very High\"]\n",
    "\n",
    "#df['TVAudienceShare'] = np.select(conditions, choices, default=np.nan)\n",
    "#df['TVAudienceShare'] = df['TVAudienceShare'].replace('nan', np.nan)\n",
    "#df.TVAudienceShare.value_counts(dropna=False)"
   ]
  },
  {
   "cell_type": "code",
   "execution_count": null,
   "id": "301dacc5-ac31-439c-a407-a470168c5f55",
   "metadata": {},
   "outputs": [],
   "source": [
    "df.tv_audience_share.std()"
   ]
  },
  {
   "cell_type": "code",
   "execution_count": null,
   "id": "03923254-85c6-48ff-9401-599f8f06d281",
   "metadata": {},
   "outputs": [],
   "source": [
    "# population_share = Country's share of global population (percentage)\n",
    "df.population_share.value_counts().sort_values(ascending=False)"
   ]
  },
  {
   "cell_type": "code",
   "execution_count": null,
   "id": "e7e0d1d5-401d-449b-8e24-c6292b4a8c28",
   "metadata": {},
   "outputs": [],
   "source": [
    "conditions = [\n",
    "    (df['population_share'] ==0.0),\n",
    "    (df['population_share'] >0.0) & (df['population_share'] <=2.0),\n",
    "    (df['population_share'] >2.0) & (df['population_share'] <=4.0),\n",
    "    (df['population_share'] >4.0) & (df['population_share'] <=10.0),\n",
    "    (df['population_share'] >10)]choices = [\"Very Low\",\"Low\",\"Moderate\",\"High\",\"Very High\"]"
   ]
  },
  {
   "cell_type": "code",
   "execution_count": null,
   "id": "46cc8f47-6316-4007-b101-937cc4b0732a",
   "metadata": {},
   "outputs": [],
   "source": [
    "#df['Wpopshare'] = np.select(conditions, choices, default=np.nan)\n",
    "#df['Wpopshare'] = df['Wpopshare'].replace('nan', np.nan)\n",
    "#df.Wpopshare.value_counts(dropna=False)"
   ]
  },
  {
   "cell_type": "code",
   "execution_count": null,
   "id": "7ec6ed0f-ebcf-4081-8f83-cfa99a2e9524",
   "metadata": {},
   "outputs": [],
   "source": []
  },
  {
   "cell_type": "code",
   "execution_count": null,
   "id": "f0bcbde6-8fe5-4863-9f4f-5670aa1b8964",
   "metadata": {},
   "outputs": [],
   "source": []
  },
  {
   "cell_type": "code",
   "execution_count": null,
   "id": "6e19293c-3dd3-4e52-b0a2-f124fd12592e",
   "metadata": {},
   "outputs": [],
   "source": []
  }
 ],
 "metadata": {
  "kernelspec": {
   "display_name": "Python 3 (ipykernel)",
   "language": "python",
   "name": "python3"
  },
  "language_info": {
   "codemirror_mode": {
    "name": "ipython",
    "version": 3
   },
   "file_extension": ".py",
   "mimetype": "text/x-python",
   "name": "python",
   "nbconvert_exporter": "python",
   "pygments_lexer": "ipython3",
   "version": "3.12.4"
  }
 },
 "nbformat": 4,
 "nbformat_minor": 5
}
